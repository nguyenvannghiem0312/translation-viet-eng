{
 "cells": [
  {
   "cell_type": "code",
   "execution_count": 1,
   "metadata": {},
   "outputs": [],
   "source": [
    "from datasets import load_dataset, DatasetDict\n",
    "from transformers import T5Tokenizer, T5ForConditionalGeneration, Seq2SeqTrainingArguments, Seq2SeqTrainer\n",
    "import io"
   ]
  },
  {
   "cell_type": "code",
   "execution_count": 2,
   "metadata": {},
   "outputs": [],
   "source": [
    "tokenizer = T5Tokenizer.from_pretrained(\"t5-small\")"
   ]
  },
  {
   "cell_type": "code",
   "execution_count": 3,
   "metadata": {},
   "outputs": [
    {
     "name": "stderr",
     "output_type": "stream",
     "text": [
      "Found cached dataset mt_eng_vietnamese (C:/Users/PC/.cache/huggingface/datasets/mt_eng_vietnamese/iwslt2015-vi-en/1.0.0/53add551a01e9874588066f89d42925f9fad43db347199dad00f7e4b0c905a71)\n"
     ]
    },
    {
     "data": {
      "application/vnd.jupyter.widget-view+json": {
       "model_id": "0b28a04f872b450e9be808d2d6082670",
       "version_major": 2,
       "version_minor": 0
      },
      "text/plain": [
       "  0%|          | 0/3 [00:00<?, ?it/s]"
      ]
     },
     "metadata": {},
     "output_type": "display_data"
    }
   ],
   "source": [
    "dataset = load_dataset('mt_eng_vietnamese', 'iwslt2015-vi-en')"
   ]
  },
  {
   "cell_type": "code",
   "execution_count": 4,
   "metadata": {},
   "outputs": [],
   "source": [
    "num_emxample = 1000\n",
    "\n",
    "train_dataset = dataset[\"train\"].select(range(num_emxample))\n",
    "valid_dataset = dataset[\"validation\"].select(range(num_emxample))\n",
    "test_dataset = dataset[\"test\"].select(range(num_emxample))\n",
    "\n",
    "sampled_dataset = DatasetDict({\n",
    "    \"train\": train_dataset,\n",
    "    \"validation\": valid_dataset,\n",
    "    \"test\": test_dataset\n",
    "})\n"
   ]
  },
  {
   "cell_type": "code",
   "execution_count": 5,
   "metadata": {},
   "outputs": [
    {
     "name": "stderr",
     "output_type": "stream",
     "text": [
      "Loading cached processed dataset at C:\\Users\\PC\\.cache\\huggingface\\datasets\\mt_eng_vietnamese\\iwslt2015-vi-en\\1.0.0\\53add551a01e9874588066f89d42925f9fad43db347199dad00f7e4b0c905a71\\cache-7c864e7a39287e94.arrow\n",
      "Loading cached processed dataset at C:\\Users\\PC\\.cache\\huggingface\\datasets\\mt_eng_vietnamese\\iwslt2015-vi-en\\1.0.0\\53add551a01e9874588066f89d42925f9fad43db347199dad00f7e4b0c905a71\\cache-aa2700aeb5e9afb1.arrow\n",
      "Loading cached processed dataset at C:\\Users\\PC\\.cache\\huggingface\\datasets\\mt_eng_vietnamese\\iwslt2015-vi-en\\1.0.0\\53add551a01e9874588066f89d42925f9fad43db347199dad00f7e4b0c905a71\\cache-70ffa497fba55c36.arrow\n"
     ]
    }
   ],
   "source": [
    "# Tokenize dataset\n",
    "def tokenize_function(examples):\n",
    "    vietnamese_sentences = []\n",
    "    english_sentences = []\n",
    "    for _ in examples[\"translation\"]:\n",
    "            vietnamese_sentences.append(_[\"vi\"])\n",
    "            english_sentences.append(_[\"en\"])\n",
    "    #vietnamese_sentences = examples[\"translation\"][\"vi\"]\n",
    "    #english_sentences = examples[\"translation\"][\"en\"]\n",
    "    \n",
    "    tokenized_inputs = tokenizer(vietnamese_sentences, truncation=True, padding=\"max_length\")\n",
    "    tokenized_targets = tokenizer(english_sentences, truncation=True, padding=\"max_length\")\n",
    "    \n",
    "    examples[\"input_ids\"] = tokenized_inputs.input_ids\n",
    "    examples[\"attention_mask\"] = tokenized_inputs.attention_mask\n",
    "    examples[\"labels\"] = tokenized_targets.input_ids\n",
    "    \n",
    "    return examples\n",
    "\n",
    "tokenized_dataset = sampled_dataset.map(tokenize_function, batched=True)\n",
    "\n",
    "# Split dataset into train and validation sets\n",
    "train_dataset = tokenized_dataset[\"train\"]\n",
    "val_dataset = tokenized_dataset[\"validation\"]"
   ]
  },
  {
   "cell_type": "code",
   "execution_count": 6,
   "metadata": {},
   "outputs": [],
   "source": [
    "model = T5ForConditionalGeneration.from_pretrained(\"t5-small\")"
   ]
  },
  {
   "cell_type": "code",
   "execution_count": 7,
   "metadata": {},
   "outputs": [],
   "source": [
    "training_args = Seq2SeqTrainingArguments(\n",
    "    output_dir=\"./mt_eng_vietnamese_finetuned\",\n",
    "    num_train_epochs=3,\n",
    "    per_device_train_batch_size=2,\n",
    "    per_device_eval_batch_size=2,\n",
    "    save_steps=50,\n",
    "    eval_steps=100,\n",
    "    logging_steps=100,\n",
    "    overwrite_output_dir=True,\n",
    "    save_total_limit=3,\n",
    ")\n"
   ]
  },
  {
   "cell_type": "code",
   "execution_count": 8,
   "metadata": {},
   "outputs": [
    {
     "name": "stderr",
     "output_type": "stream",
     "text": [
      "c:\\Users\\PC\\miniconda3\\lib\\site-packages\\transformers\\optimization.py:407: FutureWarning: This implementation of AdamW is deprecated and will be removed in a future version. Use the PyTorch implementation torch.optim.AdamW instead, or set `no_deprecation_warning=True` to disable this warning\n",
      "  warnings.warn(\n"
     ]
    },
    {
     "data": {
      "application/vnd.jupyter.widget-view+json": {
       "model_id": "75833bceb0c44f06b8a05c51c144854c",
       "version_major": 2,
       "version_minor": 0
      },
      "text/plain": [
       "  0%|          | 0/1500 [00:00<?, ?it/s]"
      ]
     },
     "metadata": {},
     "output_type": "display_data"
    },
    {
     "name": "stdout",
     "output_type": "stream",
     "text": [
      "{'loss': 2.6547, 'learning_rate': 4.666666666666667e-05, 'epoch': 0.2}\n",
      "{'loss': 0.2431, 'learning_rate': 4.3333333333333334e-05, 'epoch': 0.4}\n",
      "{'loss': 0.2009, 'learning_rate': 4e-05, 'epoch': 0.6}\n",
      "{'loss': 0.1888, 'learning_rate': 3.6666666666666666e-05, 'epoch': 0.8}\n",
      "{'loss': 0.1825, 'learning_rate': 3.3333333333333335e-05, 'epoch': 1.0}\n",
      "{'loss': 0.1778, 'learning_rate': 3e-05, 'epoch': 1.2}\n",
      "{'loss': 0.1861, 'learning_rate': 2.6666666666666667e-05, 'epoch': 1.4}\n",
      "{'loss': 0.1705, 'learning_rate': 2.3333333333333336e-05, 'epoch': 1.6}\n",
      "{'loss': 0.1774, 'learning_rate': 2e-05, 'epoch': 1.8}\n",
      "{'loss': 0.153, 'learning_rate': 1.6666666666666667e-05, 'epoch': 2.0}\n",
      "{'loss': 0.1626, 'learning_rate': 1.3333333333333333e-05, 'epoch': 2.2}\n",
      "{'loss': 0.1719, 'learning_rate': 1e-05, 'epoch': 2.4}\n",
      "{'loss': 0.1646, 'learning_rate': 6.666666666666667e-06, 'epoch': 2.6}\n",
      "{'loss': 0.1516, 'learning_rate': 3.3333333333333333e-06, 'epoch': 2.8}\n",
      "{'loss': 0.1624, 'learning_rate': 0.0, 'epoch': 3.0}\n",
      "{'train_runtime': 368.6744, 'train_samples_per_second': 8.137, 'train_steps_per_second': 4.069, 'train_loss': 0.3431839408874512, 'epoch': 3.0}\n"
     ]
    },
    {
     "data": {
      "text/plain": [
       "TrainOutput(global_step=1500, training_loss=0.3431839408874512, metrics={'train_runtime': 368.6744, 'train_samples_per_second': 8.137, 'train_steps_per_second': 4.069, 'train_loss': 0.3431839408874512, 'epoch': 3.0})"
      ]
     },
     "execution_count": 8,
     "metadata": {},
     "output_type": "execute_result"
    }
   ],
   "source": [
    "trainer = Seq2SeqTrainer(\n",
    "    model=model,\n",
    "    args=training_args,\n",
    "    train_dataset=train_dataset,\n",
    "    eval_dataset=val_dataset,\n",
    ")\n",
    "trainer.train()\n"
   ]
  },
  {
   "cell_type": "code",
   "execution_count": 12,
   "metadata": {},
   "outputs": [
    {
     "name": "stderr",
     "output_type": "stream",
     "text": [
      "c:\\Users\\PC\\miniconda3\\lib\\site-packages\\transformers\\models\\t5\\tokenization_t5.py:163: FutureWarning: This tokenizer was incorrectly instantiated with a model max length of 512 which will be corrected in Transformers v5.\n",
      "For now, this behavior is kept to avoid breaking backwards compatibility when padding/encoding with `truncation is True`.\n",
      "- Be aware that you SHOULD NOT rely on t5-base automatically truncating your input to 512 when padding/encoding.\n",
      "- If you want to encode/pad to sequences longer than 512 you can either instantiate this tokenizer with `model_max_length` or pass `max_length` when encoding/padding.\n",
      "- To avoid this warning, please instantiate this tokenizer with `model_max_length` set to your preferred value.\n",
      "  warnings.warn(\n"
     ]
    }
   ],
   "source": [
    "model_checkpoint = \"./mt_eng_vietnamese_finetuned/checkpoint-1500\"\n",
    "tokenizer = T5Tokenizer.from_pretrained(\"t5-base\")\n",
    "model = T5ForConditionalGeneration.from_pretrained(model_checkpoint)"
   ]
  },
  {
   "cell_type": "code",
   "execution_count": 15,
   "metadata": {},
   "outputs": [
    {
     "name": "stdout",
     "output_type": "stream",
     "text": [
      "It &apos;s a very good thing, it &apos;s\n"
     ]
    }
   ],
   "source": [
    "input_ids = tokenizer(\"Chính vì lượng khí thải rất lớn , nó có ý nghĩa quan trọng với hệ thống khí quyển .\", return_tensors=\"pt\").input_ids\n",
    "outputs = model.generate(input_ids)\n",
    "print(tokenizer.decode(outputs[0], skip_special_tokens=True))"
   ]
  },
  {
   "cell_type": "code",
   "execution_count": 16,
   "metadata": {},
   "outputs": [
    {
     "name": "stdout",
     "output_type": "stream",
     "text": [
      "I &apos;m a little bit of a tad &\n"
     ]
    }
   ],
   "source": [
    "input_ids = tokenizer(\"Hôm nay tôi đi học\", return_tensors=\"pt\").input_ids\n",
    "outputs = model.generate(input_ids)\n",
    "print(tokenizer.decode(outputs[0], skip_special_tokens=True))"
   ]
  },
  {
   "cell_type": "code",
   "execution_count": 17,
   "metadata": {},
   "outputs": [
    {
     "name": "stdout",
     "output_type": "stream",
     "text": [
      "It &apos;s a great way to get to know the world.\n"
     ]
    }
   ],
   "source": [
    "input_ids = tokenizer(\"Bắt chước những gì bạn nhìn thấy .\", return_tensors=\"pt\").input_ids\n",
    "outputs = model.generate(input_ids)\n",
    "print(tokenizer.decode(outputs[0], skip_special_tokens=True))"
   ]
  }
 ],
 "metadata": {
  "kernelspec": {
   "display_name": "base",
   "language": "python",
   "name": "python3"
  },
  "language_info": {
   "codemirror_mode": {
    "name": "ipython",
    "version": 3
   },
   "file_extension": ".py",
   "mimetype": "text/x-python",
   "name": "python",
   "nbconvert_exporter": "python",
   "pygments_lexer": "ipython3",
   "version": "3.10.9"
  },
  "orig_nbformat": 4
 },
 "nbformat": 4,
 "nbformat_minor": 2
}
